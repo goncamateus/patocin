{
 "cells": [
  {
   "cell_type": "code",
   "execution_count": 3,
   "metadata": {},
   "outputs": [],
   "source": [
    "import os"
   ]
  },
  {
   "cell_type": "code",
   "execution_count": 4,
   "metadata": {},
   "outputs": [
    {
     "data": {
      "text/plain": [
       "['',\n",
       " '/home/cfcv/miniconda3/envs/gym-duckietown/lib/python36.zip',\n",
       " '/home/cfcv/miniconda3/envs/gym-duckietown/lib/python3.6',\n",
       " '/home/cfcv/miniconda3/envs/gym-duckietown/lib/python3.6/lib-dynload',\n",
       " '/home/cfcv/miniconda3/envs/gym-duckietown/lib/python3.6/site-packages',\n",
       " '/home/cfcv/miniconda3/envs/gym-duckietown/lib/python3.6/site-packages/IPython/extensions',\n",
       " '/home/cfcv/.ipython']"
      ]
     },
     "execution_count": 4,
     "metadata": {},
     "output_type": "execute_result"
    }
   ],
   "source": [
    "os.sys.path"
   ]
  },
  {
   "cell_type": "code",
   "execution_count": 5,
   "metadata": {},
   "outputs": [],
   "source": [
    "os.sys.path.append(\"/home/cfcv/Desktop/patocin/gym-duckietown\")"
   ]
  },
  {
   "cell_type": "code",
   "execution_count": 6,
   "metadata": {},
   "outputs": [
    {
     "data": {
      "text/plain": [
       "['',\n",
       " '/home/cfcv/miniconda3/envs/gym-duckietown/lib/python36.zip',\n",
       " '/home/cfcv/miniconda3/envs/gym-duckietown/lib/python3.6',\n",
       " '/home/cfcv/miniconda3/envs/gym-duckietown/lib/python3.6/lib-dynload',\n",
       " '/home/cfcv/miniconda3/envs/gym-duckietown/lib/python3.6/site-packages',\n",
       " '/home/cfcv/miniconda3/envs/gym-duckietown/lib/python3.6/site-packages/IPython/extensions',\n",
       " '/home/cfcv/.ipython',\n",
       " '/home/cfcv/Desktop/patocin/gym-duckietown']"
      ]
     },
     "execution_count": 6,
     "metadata": {},
     "output_type": "execute_result"
    }
   ],
   "source": [
    "os.sys.path"
   ]
  },
  {
   "cell_type": "code",
   "execution_count": 10,
   "metadata": {},
   "outputs": [],
   "source": [
    "import numpy as np\n",
    "import gym\n",
    "import gym_duckietown\n",
    "from gym_duckietown.envs.duckietown_env import * #DuckietownEnv"
   ]
  },
  {
   "cell_type": "code",
   "execution_count": null,
   "metadata": {},
   "outputs": [],
   "source": [
    "map_name='udem1',\n",
    "max_steps=1500,\n",
    "draw_curve=False,\n",
    "draw_bbox=False,\n",
    "domain_rand=False,\n",
    "frame_rate=30,\n",
    "frame_skip=1,\n",
    "camera_width=640,\n",
    "camera_height=480,\n",
    "robot_speed=1.20, #MAXIMUM FORWARD ROBOT SPEED\n",
    "accept_start_angle_deg=60,\n",
    "full_transparency=False,\n",
    "user_tile_start=None,\n",
    "seed=None,\n",
    "distortion=False,\n",
    "randomize_maps_on_reset=False,"
   ]
  },
  {
   "cell_type": "code",
   "execution_count": 27,
   "metadata": {},
   "outputs": [
    {
     "name": "stderr",
     "output_type": "stream",
     "text": [
      "/home/cfcv/miniconda3/envs/gym-duckietown/lib/python3.6/site-packages/gym/logger.py:30: UserWarning: \u001b[33mWARN: Box bound precision lowered by casting to float32\u001b[0m\n",
      "  warnings.warn(colorize('%s: %s'%('WARN', msg % args), 'yellow'))\n"
     ]
    }
   ],
   "source": [
    "env = DuckietownLF(map_name='straight_road',\n",
    "max_steps=1500,\n",
    "draw_curve=False,\n",
    "draw_bbox=False,\n",
    "domain_rand=False,\n",
    "frame_rate=30,\n",
    "frame_skip=1,\n",
    "camera_width=640,\n",
    "camera_height=480,\n",
    "robot_speed=1.20, #MAXIMUM FORWARD ROBOT SPEED\n",
    "accept_start_angle_deg=1,\n",
    "full_transparency=False,\n",
    "user_tile_start=None,\n",
    "seed=None,\n",
    "distortion=False,\n",
    "randomize_maps_on_reset=False,)"
   ]
  },
  {
   "cell_type": "code",
   "execution_count": 28,
   "metadata": {},
   "outputs": [],
   "source": [
    "env.reset()\n",
    "env.render()\n",
    "\n",
    "count = 0\n",
    "while(count < 300):\n",
    "    action = np.array([0.0, 0.0])\n",
    "    obs, reward, done, info = env.step(action)\n",
    "    count += 1\n",
    "    env.render()\n",
    "    \n",
    "env.close()"
   ]
  },
  {
   "cell_type": "code",
   "execution_count": 17,
   "metadata": {},
   "outputs": [
    {
     "data": {
      "text/plain": [
       "(480, 640, 3)"
      ]
     },
     "execution_count": 17,
     "metadata": {},
     "output_type": "execute_result"
    }
   ],
   "source": [
    "obs.shape"
   ]
  },
  {
   "cell_type": "code",
   "execution_count": 20,
   "metadata": {},
   "outputs": [
    {
     "data": {
      "text/plain": [
       "{'Simulator': {'action': [0.5823433496389471, 0.5823433496389471],\n",
       "  'msg': 'Stopping the simulator because we are at an invalid pose.'},\n",
       " 'DuckietownEnv': {'k': 27.0,\n",
       "  'gain': 1.0,\n",
       "  'train': 0.0,\n",
       "  'radius': 0.0318,\n",
       "  'omega_r': 15.723270440251572,\n",
       "  'omega_l': 15.723270440251572}}"
      ]
     },
     "execution_count": 20,
     "metadata": {},
     "output_type": "execute_result"
    }
   ],
   "source": [
    "info"
   ]
  }
 ],
 "metadata": {
  "kernelspec": {
   "display_name": "Python 3",
   "language": "python",
   "name": "python3"
  },
  "language_info": {
   "codemirror_mode": {
    "name": "ipython",
    "version": 3
   },
   "file_extension": ".py",
   "mimetype": "text/x-python",
   "name": "python",
   "nbconvert_exporter": "python",
   "pygments_lexer": "ipython3",
   "version": "3.6.12"
  }
 },
 "nbformat": 4,
 "nbformat_minor": 4
}
